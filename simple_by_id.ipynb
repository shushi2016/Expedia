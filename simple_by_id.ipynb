{
 "cells": [
  {
   "cell_type": "code",
   "execution_count": 1,
   "metadata": {
    "collapsed": false
   },
   "outputs": [],
   "source": [
    "import numpy as np\n",
    "import pandas as pd\n",
    "import random\n",
    "random.seed(0)\n",
    "\n",
    "train = pd.read_csv('train.csv',\n",
    "                    dtype={'user_id': np.int32,\n",
    "                           'user_location_country': np.int32,\n",
    "                           'is_mobile': bool,\n",
    "                           'srch_destination_id': np.int32,\n",
    "                           'srch_adults_cnt': np.int32,\n",
    "                           'srch_children_cnt': np.int32,\n",
    "                           'srch_rm_cnt': np.int32,\n",
    "                           'hotel_country' : np.int32,\n",
    "                           'is_booking':bool,\n",
    "                           'hotel_cluster':np.int32},\n",
    "                    usecols=['user_id',\n",
    "                             'user_location_country',\n",
    "                             'is_mobile',\n",
    "                             'srch_destination_id',\n",
    "                             'srch_adults_cnt',\n",
    "                             'srch_children_cnt',\n",
    "                             'srch_rm_cnt',\n",
    "                             'hotel_country',\n",
    "                             'is_booking',\n",
    "                             'hotel_cluster'])"
   ]
  },
  {
   "cell_type": "code",
   "execution_count": 2,
   "metadata": {
    "collapsed": true
   },
   "outputs": [],
   "source": [
    "Y = train['hotel_cluster']"
   ]
  },
  {
   "cell_type": "code",
   "execution_count": 3,
   "metadata": {
    "collapsed": false
   },
   "outputs": [],
   "source": [
    "X = train.ix[:,0:9]"
   ]
  },
  {
   "cell_type": "code",
   "execution_count": 4,
   "metadata": {
    "collapsed": false
   },
   "outputs": [],
   "source": [
    "from sklearn.cross_validation import train_test_split\n",
    "X_train, X_test, Y_train, Y_test = train_test_split(X, Y, test_size = 0.0025, random_state = 0)"
   ]
  },
  {
   "cell_type": "code",
   "execution_count": 5,
   "metadata": {
    "collapsed": false
   },
   "outputs": [],
   "source": [
    "def predictByID(id, df):\n",
    "    ''' \n",
    "    This function return 5 hotel_cluster values for each input id\n",
    "    If an id has 5 or more is_booking counts, then return the top 5 hotel_cluster\n",
    "    found in the train data.\n",
    "    If an id has less than 5 is_booking counts,\n",
    "    return the is_booking clusters and several top nth not booked cluster.\n",
    "    '''\n",
    "    counts_is_booking = df.ix[ (df['user_id'] == id) & (df['is_booking'] == 1)].shape[0] \n",
    "    # find how many is_booking counts of an id has\n",
    "    \n",
    "#     counts_all = df.ix[df['user_id'] == id].shape[0]\n",
    "#     # find how many total counts an id has\n",
    "    \n",
    "    if counts_is_booking >=5:\n",
    "        top5 = situationOne(id, df)\n",
    "    elif counts_is_booking < 5:\n",
    "        top5 = situationTwo(id, df)\n",
    "#     elif counts_is_booking <5 & counts_all < 5:\n",
    "#         top5 = situationThree(id, df)\n",
    "    else:\n",
    "        print ('SOMETHING IS WRONG WITH THE CODE!!!')\n",
    "        top5 = -9999\n",
    "    return top5"
   ]
  },
  {
   "cell_type": "code",
   "execution_count": 6,
   "metadata": {
    "collapsed": false
   },
   "outputs": [],
   "source": [
    "def situationOne(id, df):\n",
    "#     use this function if counts_is_booking >= 5\n",
    "#     print ('using situation 1')\n",
    "    tempDf = df.ix[ (df['user_id'] == id)]\n",
    "    tempDf2 = tempDf.ix[df['is_booking'] == 1]\n",
    "    top5 = pd.DataFrame(tempDf2['hotel_cluster'].value_counts().nlargest(5).index)\n",
    "\n",
    "    return top5"
   ]
  },
  {
   "cell_type": "code",
   "execution_count": 7,
   "metadata": {
    "collapsed": true
   },
   "outputs": [],
   "source": [
    "def situationTwo(id, df):\n",
    "    # use this function if counts_is_booking < 5 and counts_all > 5\n",
    "#     print ('using situation 2')\n",
    "    tempDf = df.ix[ (df['user_id'] == id)]\n",
    "    tempDf2 = tempDf.ix[df['is_booking'] == 1]\n",
    "    tempDf3 = tempDf.ix[df['is_booking'] == 0]\n",
    "    top = pd.DataFrame(tempDf2['hotel_cluster'].value_counts().nlargest(5).index)\n",
    "    number_of_clusters = tempDf2.shape[0]\n",
    "    still_need = 5 - number_of_clusters\n",
    "    top_2nd_part = pd.DataFrame(tempDf3['hotel_cluster'].value_counts().nlargest(still_need).index)\n",
    "    top5 = top.append(top_2nd_part)\n",
    "\n",
    "    return top5"
   ]
  },
  {
   "cell_type": "code",
   "execution_count": 8,
   "metadata": {
    "collapsed": false
   },
   "outputs": [],
   "source": [
    "tr = pd.concat([X_train, Y_train], axis = 1)"
   ]
  },
  {
   "cell_type": "code",
   "execution_count": 9,
   "metadata": {
    "collapsed": false
   },
   "outputs": [
    {
     "data": {
      "text/plain": [
       "(9418, 9)"
      ]
     },
     "execution_count": 9,
     "metadata": {},
     "output_type": "execute_result"
    }
   ],
   "source": [
    "X_test.shape"
   ]
  },
  {
   "cell_type": "code",
   "execution_count": 10,
   "metadata": {
    "collapsed": false
   },
   "outputs": [
    {
     "name": "stdout",
     "output_type": "stream",
     "text": [
      "3942.97377129\n"
     ]
    }
   ],
   "source": [
    "import timeit\n",
    "start = timeit.default_timer()\n",
    "\n",
    "a = 0\n",
    "prediction = pd.DataFrame()\n",
    "for idx, row in X_test['user_id'].iteritems():\n",
    "\n",
    "    if a < 100000000000:\n",
    "#         print ('ID is %d' % row)\n",
    "        prd = pd.DataFrame(predictByID(row, tr))\n",
    "        prd.columns = ['clusters']\n",
    "        d = {'ID': pd.Series(row),\n",
    "             'hotel_cluster': \" \".join(list(prd['clusters'].astype(str)))}\n",
    "        tempDF = pd.DataFrame(d)\n",
    "        prediction = prediction.append(tempDF)\n",
    "        a += 1\n",
    "        if a % 10000 == 0:\n",
    "            print ('Working hard...')\n",
    "            print ('ID is %d' % row)\n",
    "        \n",
    "stop = timeit.default_timer()\n",
    "elapseTime = stop - start\n",
    "print elapseTime\n",
    "# prediction.to_csv('prediction_v1_id_only.csv')"
   ]
  },
  {
   "cell_type": "code",
   "execution_count": 20,
   "metadata": {
    "collapsed": false
   },
   "outputs": [],
   "source": [
    "import ml_metrics as metrics"
   ]
  },
  {
   "cell_type": "code",
   "execution_count": 27,
   "metadata": {
    "collapsed": false
   },
   "outputs": [],
   "source": [
    "predictionList = [[l] for l in prediction[\"hotel_cluster\"]]"
   ]
  },
  {
   "cell_type": "code",
   "execution_count": 41,
   "metadata": {
    "collapsed": false
   },
   "outputs": [
    {
     "data": {
      "text/plain": [
       "0.0"
      ]
     },
     "execution_count": 41,
     "metadata": {},
     "output_type": "execute_result"
    }
   ],
   "source": [
    "# metrics.mapk(target, prediction, k=5)\n",
    "metrics.mapk([[l] for l in Y_test], predictionList, k=10)"
   ]
  }
 ],
 "metadata": {
  "kernelspec": {
   "display_name": "Python 2",
   "language": "python",
   "name": "python2"
  },
  "language_info": {
   "codemirror_mode": {
    "name": "ipython",
    "version": 2
   },
   "file_extension": ".py",
   "mimetype": "text/x-python",
   "name": "python",
   "nbconvert_exporter": "python",
   "pygments_lexer": "ipython2",
   "version": "2.7.11"
  }
 },
 "nbformat": 4,
 "nbformat_minor": 0
}
